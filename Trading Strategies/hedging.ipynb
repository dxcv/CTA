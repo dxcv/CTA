{
 "cells": [
  {
   "cell_type": "markdown",
   "metadata": {},
   "source": [
    "# TF1812 和 T1812 hedging"
   ]
  },
  {
   "cell_type": "code",
   "execution_count": 2,
   "metadata": {},
   "outputs": [],
   "source": [
    "import pandas as pd"
   ]
  },
  {
   "cell_type": "code",
   "execution_count": 3,
   "metadata": {},
   "outputs": [],
   "source": [
    "data_T = pd.read_csv('./data/T1812_data.csv',index_col = [0], usecols=['DATE','CLOSE'])\n",
    "data_T.columns = ['T1812']\n",
    "data_TF = pd.read_csv('./data/TF1812_data.csv',index_col = [0], usecols=['DATE','CLOSE'])\n",
    "data_TF.columns = ['TF1812']"
   ]
  },
  {
   "cell_type": "code",
   "execution_count": 4,
   "metadata": {},
   "outputs": [
    {
     "name": "stdout",
     "output_type": "stream",
     "text": [
      "                     TF1812\n",
      "DATE                       \n",
      "2018-07-11 09:20:00  98.320\n",
      "2018-07-11 09:25:00  98.320\n",
      "2018-07-11 09:30:00  98.320\n",
      "2018-07-11 09:35:00  98.310\n",
      "2018-07-11 09:40:00  98.310\n",
      "2018-07-11 09:45:00  98.250\n",
      "2018-07-11 09:50:00  98.250\n",
      "2018-07-11 09:55:00  98.205\n",
      "2018-07-11 10:00:00  98.205\n",
      "2018-07-11 10:05:00  98.205\n",
      "2018-07-11 10:10:00  98.205\n",
      "2018-07-11 10:15:00  98.205\n",
      "2018-07-11 10:20:00  98.215\n",
      "2018-07-11 10:25:00  98.210\n",
      "2018-07-11 10:30:00  98.210\n",
      "2018-07-11 10:35:00  98.210\n",
      "2018-07-11 10:40:00  98.210\n",
      "2018-07-11 10:45:00  98.210\n",
      "2018-07-11 10:50:00  98.210\n",
      "2018-07-11 10:55:00  98.210\n",
      "2018-07-11 11:00:00  98.210\n",
      "2018-07-11 11:05:00  98.210\n",
      "2018-07-11 11:10:00  98.210\n",
      "2018-07-11 11:15:00  98.210\n",
      "2018-07-11 11:20:00  98.210\n",
      "2018-07-11 11:25:00  98.210\n",
      "2018-07-11 11:30:00  98.210\n",
      "2018-07-11 13:05:00  98.190\n",
      "2018-07-11 13:10:00  98.190\n",
      "2018-07-11 13:15:00  98.190\n",
      "...                     ...\n",
      "2018-11-09 11:20:00  98.515\n",
      "2018-11-09 11:25:00  98.525\n",
      "2018-11-09 11:30:00  98.540\n",
      "2018-11-09 13:05:00  98.535\n",
      "2018-11-09 13:10:00  98.510\n",
      "2018-11-09 13:15:00  98.490\n",
      "2018-11-09 13:20:00  98.490\n",
      "2018-11-09 13:25:00  98.505\n",
      "2018-11-09 13:30:00  98.505\n",
      "2018-11-09 13:35:00  98.500\n",
      "2018-11-09 13:40:00  98.505\n",
      "2018-11-09 13:45:00  98.520\n",
      "2018-11-09 13:50:00  98.530\n",
      "2018-11-09 13:55:00  98.550\n",
      "2018-11-09 14:00:00  98.570\n",
      "2018-11-09 14:05:00  98.555\n",
      "2018-11-09 14:10:00  98.580\n",
      "2018-11-09 14:15:00  98.575\n",
      "2018-11-09 14:20:00  98.580\n",
      "2018-11-09 14:25:00  98.585\n",
      "2018-11-09 14:30:00  98.575\n",
      "2018-11-09 14:35:00  98.590\n",
      "2018-11-09 14:40:00  98.585\n",
      "2018-11-09 14:45:00  98.570\n",
      "2018-11-09 14:50:00  98.565\n",
      "2018-11-09 14:55:00  98.550\n",
      "2018-11-09 15:00:00  98.550\n",
      "2018-11-09 15:05:00  98.545\n",
      "2018-11-09 15:10:00  98.530\n",
      "2018-11-09 15:15:00  98.515\n",
      "\n",
      "[4428 rows x 1 columns]\n"
     ]
    }
   ],
   "source": [
    "print(data_TF)"
   ]
  },
  {
   "cell_type": "code",
   "execution_count": 7,
   "metadata": {},
   "outputs": [
    {
     "name": "stdout",
     "output_type": "stream",
     "text": [
      "                      T1812  TF1812\n",
      "DATE                               \n",
      "2018-07-11 09:20:00  95.750  98.320\n",
      "2018-07-11 09:25:00  95.785  98.320\n",
      "2018-07-11 09:30:00  95.800  98.320\n",
      "2018-07-11 09:35:00  95.790  98.310\n",
      "2018-07-11 09:40:00  95.780  98.310\n",
      "2018-07-11 09:45:00  95.750  98.250\n",
      "2018-07-11 09:50:00  95.745  98.250\n",
      "2018-07-11 09:55:00  95.690  98.205\n",
      "2018-07-11 10:00:00  95.690  98.205\n",
      "2018-07-11 10:05:00  95.690  98.205\n",
      "2018-07-11 10:10:00  95.690  98.205\n",
      "2018-07-11 10:15:00  95.690  98.205\n",
      "2018-07-11 10:20:00  95.690  98.215\n",
      "2018-07-11 10:25:00  95.690  98.210\n",
      "2018-07-11 10:30:00  95.690  98.210\n",
      "2018-07-11 10:35:00  95.670  98.210\n",
      "2018-07-11 10:40:00  95.670  98.210\n",
      "2018-07-11 10:45:00  95.670  98.210\n",
      "2018-07-11 10:50:00  95.670  98.210\n",
      "2018-07-11 10:55:00  95.700  98.210\n",
      "2018-07-11 11:00:00  95.715  98.210\n",
      "2018-07-11 11:05:00  95.715  98.210\n",
      "2018-07-11 11:10:00  95.670  98.210\n",
      "2018-07-11 11:15:00  95.670  98.210\n",
      "2018-07-11 11:20:00  95.650  98.210\n",
      "2018-07-11 11:25:00  95.650  98.210\n",
      "2018-07-11 11:30:00  95.650  98.210\n",
      "2018-07-11 13:05:00  95.680  98.190\n",
      "2018-07-11 13:10:00  95.680  98.190\n",
      "2018-07-11 13:15:00  95.720  98.190\n",
      "...                     ...     ...\n",
      "2018-11-09 11:20:00  96.005  98.515\n",
      "2018-11-09 11:25:00  96.015  98.525\n",
      "2018-11-09 11:30:00  96.035  98.540\n",
      "2018-11-09 13:05:00  96.040  98.535\n",
      "2018-11-09 13:10:00  95.995  98.510\n",
      "2018-11-09 13:15:00  95.980  98.490\n",
      "2018-11-09 13:20:00  95.960  98.490\n",
      "2018-11-09 13:25:00  95.990  98.505\n",
      "2018-11-09 13:30:00  95.990  98.505\n",
      "2018-11-09 13:35:00  95.980  98.500\n",
      "2018-11-09 13:40:00  95.990  98.505\n",
      "2018-11-09 13:45:00  96.015  98.520\n",
      "2018-11-09 13:50:00  96.050  98.530\n",
      "2018-11-09 13:55:00  96.065  98.550\n",
      "2018-11-09 14:00:00  96.120  98.570\n",
      "2018-11-09 14:05:00  96.085  98.555\n",
      "2018-11-09 14:10:00  96.115  98.580\n",
      "2018-11-09 14:15:00  96.105  98.575\n",
      "2018-11-09 14:20:00  96.130  98.580\n",
      "2018-11-09 14:25:00  96.145  98.585\n",
      "2018-11-09 14:30:00  96.130  98.575\n",
      "2018-11-09 14:35:00  96.145  98.590\n",
      "2018-11-09 14:40:00  96.150  98.585\n",
      "2018-11-09 14:45:00  96.110  98.570\n",
      "2018-11-09 14:50:00  96.100  98.565\n",
      "2018-11-09 14:55:00  96.070  98.550\n",
      "2018-11-09 15:00:00  96.060  98.550\n",
      "2018-11-09 15:05:00  96.040  98.545\n",
      "2018-11-09 15:10:00  96.010  98.530\n",
      "2018-11-09 15:15:00  96.005  98.515\n",
      "\n",
      "[4428 rows x 2 columns]\n"
     ]
    }
   ],
   "source": [
    "data = pd.concat([data_T,data_TF],axis=1)\n",
    "print(data)"
   ]
  },
  {
   "cell_type": "code",
   "execution_count": 34,
   "metadata": {},
   "outputs": [
    {
     "name": "stdout",
     "output_type": "stream",
     "text": [
      "                      T1812  TF1812\n",
      "DATE                               \n",
      "2018-08-13 09:20:00  95.220  98.045\n",
      "2018-08-13 09:25:00  95.230  98.050\n",
      "2018-08-13 09:30:00  95.255  98.060\n",
      "2018-08-13 09:35:00  95.280  98.070\n",
      "2018-08-13 09:40:00  95.235  98.040\n",
      "2018-08-13 09:45:00  95.230  98.025\n",
      "2018-08-13 09:50:00  95.230  98.005\n",
      "2018-08-13 09:55:00  95.220  98.000\n",
      "2018-08-13 10:00:00  95.215  97.985\n",
      "2018-08-13 10:05:00  95.200  97.970\n",
      "2018-08-13 10:10:00  95.215  97.970\n",
      "2018-08-13 10:15:00  95.185  97.955\n",
      "2018-08-13 10:20:00  95.125  97.905\n",
      "2018-08-13 10:25:00  95.120  97.915\n",
      "2018-08-13 10:30:00  95.070  97.885\n",
      "2018-08-13 10:35:00  95.090  97.870\n",
      "2018-08-13 10:40:00  95.050  97.870\n",
      "2018-08-13 10:45:00  95.070  97.880\n",
      "2018-08-13 10:50:00  95.085  97.880\n",
      "2018-08-13 10:55:00  95.070  97.875\n",
      "2018-08-13 11:00:00  95.035  97.855\n",
      "2018-08-13 11:05:00  95.005  97.825\n",
      "2018-08-13 11:10:00  94.960  97.795\n",
      "2018-08-13 11:15:00  94.875  97.775\n",
      "2018-08-13 11:20:00  94.895  97.805\n",
      "2018-08-13 11:25:00  94.880  97.790\n",
      "2018-08-13 11:30:00  94.870  97.780\n",
      "2018-08-13 13:05:00  94.865  97.760\n",
      "2018-08-13 13:10:00  94.870  97.760\n",
      "2018-08-13 13:15:00  94.875  97.750\n",
      "...                     ...     ...\n",
      "2018-11-09 11:20:00  96.005  98.515\n",
      "2018-11-09 11:25:00  96.015  98.525\n",
      "2018-11-09 11:30:00  96.035  98.540\n",
      "2018-11-09 13:05:00  96.040  98.535\n",
      "2018-11-09 13:10:00  95.995  98.510\n",
      "2018-11-09 13:15:00  95.980  98.490\n",
      "2018-11-09 13:20:00  95.960  98.490\n",
      "2018-11-09 13:25:00  95.990  98.505\n",
      "2018-11-09 13:30:00  95.990  98.505\n",
      "2018-11-09 13:35:00  95.980  98.500\n",
      "2018-11-09 13:40:00  95.990  98.505\n",
      "2018-11-09 13:45:00  96.015  98.520\n",
      "2018-11-09 13:50:00  96.050  98.530\n",
      "2018-11-09 13:55:00  96.065  98.550\n",
      "2018-11-09 14:00:00  96.120  98.570\n",
      "2018-11-09 14:05:00  96.085  98.555\n",
      "2018-11-09 14:10:00  96.115  98.580\n",
      "2018-11-09 14:15:00  96.105  98.575\n",
      "2018-11-09 14:20:00  96.130  98.580\n",
      "2018-11-09 14:25:00  96.145  98.585\n",
      "2018-11-09 14:30:00  96.130  98.575\n",
      "2018-11-09 14:35:00  96.145  98.590\n",
      "2018-11-09 14:40:00  96.150  98.585\n",
      "2018-11-09 14:45:00  96.110  98.570\n",
      "2018-11-09 14:50:00  96.100  98.565\n",
      "2018-11-09 14:55:00  96.070  98.550\n",
      "2018-11-09 15:00:00  96.060  98.550\n",
      "2018-11-09 15:05:00  96.040  98.545\n",
      "2018-11-09 15:10:00  96.010  98.530\n",
      "2018-11-09 15:15:00  96.005  98.515\n",
      "\n",
      "[3186 rows x 2 columns]\n"
     ]
    }
   ],
   "source": [
    "data = data['2018-08-11 09:15:00':]\n",
    "print(data)"
   ]
  },
  {
   "cell_type": "code",
   "execution_count": 15,
   "metadata": {},
   "outputs": [],
   "source": [
    "def find_cointegration(data):\n",
    "    n = data.shape[1]\n",
    "    score_matrix = np.zeros((n,n))\n",
    "    pvalue_matrix = np.ones((n,n))\n",
    "    keys = data.keys()\n",
    "    pair = []\n",
    "    for i in range(n):\n",
    "        for j in range(i+1,n):\n",
    "            S1 = data[keys[i]]\n",
    "            S2 = data[keys[j]]\n",
    "            result = coint(S1,S2)\n",
    "            score = result[0]\n",
    "            pvalue = result[1]\n",
    "            score_matrix[i, j] = score\n",
    "            pvalue_matrix[i,j] = pvalue\n",
    "            if pvalue < 0.1:\n",
    "                pair.append((keys[i],keys[j]))\n",
    "    return score_matrix,pvalue_matrix,pair    "
   ]
  },
  {
   "cell_type": "code",
   "execution_count": 16,
   "metadata": {
    "scrolled": true
   },
   "outputs": [
    {
     "data": {
      "text/plain": [
       "<matplotlib.axes._subplots.AxesSubplot at 0x1bea5a20>"
      ]
     },
     "execution_count": 16,
     "metadata": {},
     "output_type": "execute_result"
    },
    {
     "data": {
      "image/png": "[encoded data removed]",
      "text/plain": [
       "<Figure size 432x288 with 2 Axes>"
      ]
     },
     "metadata": {
      "needs_background": "light"
     },
     "output_type": "display_data"
    }
   ],
   "source": [
    "import numpy as np\n",
    "from statsmodels.tsa.stattools import coint\n",
    "\n",
    "scores, pvalues, pair = find_cointegration(data)\n",
    "\n",
    "\n",
    "import seaborn\n",
    "\n",
    "seaborn.heatmap(pvalues, xticklabels=['T1812','TF1812'], yticklabels=['T1812','TF1812'], cmap='RdYlGn_r'\n",
    "                ,mask = (pvalues >= 0.1))\n",
    "                "
   ]
  },
  {
   "cell_type": "code",
   "execution_count": 17,
   "metadata": {},
   "outputs": [],
   "source": [
    "S1 = data['T1812']\n",
    "S2 = data['TF1812']"
   ]
  },
  {
   "cell_type": "code",
   "execution_count": 33,
   "metadata": {},
   "outputs": [
    {
     "name": "stdout",
     "output_type": "stream",
     "text": [
      "const    40.252114\n",
      "T1812     0.606661\n",
      "dtype: float64\n"
     ]
    },
    {
     "data": {
      "text/plain": [
       "<matplotlib.legend.Legend at 0x1f913860>"
      ]
     },
     "execution_count": 33,
     "metadata": {},
     "output_type": "execute_result"
    },
    {
     "data": {
      "image/png": "[encoded data removed]",
      "text/plain": [
       "<Figure size 432x288 with 1 Axes>"
      ]
     },
     "metadata": {
      "needs_background": "light"
     },
     "output_type": "display_data"
    }
   ],
   "source": [
    "import statsmodels\n",
    "import statsmodels.api as sm\n",
    "import matplotlib.pyplot as plt\n",
    "\n",
    "S1 = sm.add_constant(S1)\n",
    "result = sm.OLS(S2,S1).fit()\n",
    "b = result.params['T1812']\n",
    "print(result.params)\n",
    "spread = S2 - b * S1['T1812']\n",
    "spread.plot()\n",
    "plt.axhline(spread.mean(), color = 'black')\n",
    "plt.legend(['Spread'])"
   ]
  },
  {
   "cell_type": "code",
   "execution_count": 25,
   "metadata": {},
   "outputs": [],
   "source": [
    "def zscore(series):\n",
    "    return (series - series.mean()) / np.std(series)"
   ]
  },
  {
   "cell_type": "code",
   "execution_count": 37,
   "metadata": {
    "scrolled": false
   },
   "outputs": [
    {
     "data": {
      "text/plain": [
       "<matplotlib.legend.Legend at 0x213cd828>"
      ]
     },
     "execution_count": 37,
     "metadata": {},
     "output_type": "execute_result"
    },
    {
     "data": {
      "image/png": "[encoded data removed]",
      "text/plain": [
       "<Figure size 432x288 with 1 Axes>"
      ]
     },
     "metadata": {
      "needs_background": "light"
     },
     "output_type": "display_data"
    }
   ],
   "source": [
    "zscore(spread).plot()\n",
    "plt.axhline(zscore(spread).mean(),color='black')\n",
    "plt.axhline(1.0,color = 'red',linestyle = '--')\n",
    "plt.axhline(-1.0,color = 'green',linestyle = '--')\n",
    "plt.legend(['Spread z-score','Mean','+1','-1'])"
   ]
  },
  {
   "cell_type": "code",
   "execution_count": null,
   "metadata": {},
   "outputs": [],
   "source": []
  }
 ],
 "metadata": {
  "kernelspec": {
   "display_name": "Python 2",
   "language": "python",
   "name": "python2"
  },
  "language_info": {
   "codemirror_mode": {
    "name": "ipython",
    "version": 2
   },
   "file_extension": ".py",
   "mimetype": "text/x-python",
   "name": "python",
   "nbconvert_exporter": "python",
   "pygments_lexer": "ipython2",
   "version": "2.7.15"
  }
 },
 "nbformat": 4,
 "nbformat_minor": 2
}
